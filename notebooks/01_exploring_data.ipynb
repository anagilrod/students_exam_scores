{
 "cells": [
  {
   "cell_type": "markdown",
   "metadata": {},
   "source": [
    "<span style=\"color: #60B5FC; font-weight: bold; font-size: 24px;\">01 Exploring data</span>"
   ]
  },
  {
   "cell_type": "markdown",
   "metadata": {},
   "source": [
    "<span style=\"color: #AC1555; font-weight: bold; font-size: 18px;\">Libraries</span>"
   ]
  },
  {
   "cell_type": "code",
   "execution_count": 2,
   "metadata": {},
   "outputs": [
    {
     "name": "stderr",
     "output_type": "stream",
     "text": [
      "/Users/anagilabert/repos/students_exam_scores/.venv/lib/python3.11/site-packages/tqdm/auto.py:21: TqdmWarning: IProgress not found. Please update jupyter and ipywidgets. See https://ipywidgets.readthedocs.io/en/stable/user_install.html\n",
      "  from .autonotebook import tqdm as notebook_tqdm\n"
     ]
    }
   ],
   "source": [
    "import pandas as pd\n",
    "import numpy as np\n",
    "import matplotlib.pyplot as plt\n",
    "import seaborn as sns\n",
    "import sweetviz as sv\n",
    "from sklearn.model_selection import train_test_split\n",
    "from sklearn.linear_model import LinearRegression\n",
    "from sklearn.metrics import mean_squared_error\n",
    "from math import sqrt"
   ]
  },
  {
   "cell_type": "markdown",
   "metadata": {},
   "source": [
    "<span style=\"color: #AC1555; font-weight: bold; font-size: 18px;\">Data preparation and data clearning\n",
    "EDA, feature importance analysis\n",
    "Model selection process and parameter tuning</span>"
   ]
  },
  {
   "cell_type": "code",
   "execution_count": 3,
   "metadata": {},
   "outputs": [],
   "source": [
    "df = pd.read_csv('/Users/anagilabert/repos/students_exam_scores/data/Expanded_data_with_more_features.csv', index_col=0)\n",
    "df = df.drop(['ReadingScore', 'WritingScore'], axis=1)\n"
   ]
  },
  {
   "cell_type": "code",
   "execution_count": 4,
   "metadata": {},
   "outputs": [
    {
     "data": {
      "text/plain": [
       "Gender                    0\n",
       "EthnicGroup            1840\n",
       "ParentEduc             1845\n",
       "LunchType                 0\n",
       "TestPrep               1830\n",
       "ParentMaritalStatus    1190\n",
       "PracticeSport           631\n",
       "IsFirstChild            904\n",
       "NrSiblings             1572\n",
       "TransportMeans         3134\n",
       "WklyStudyHours          955\n",
       "MathScore                 0\n",
       "dtype: int64"
      ]
     },
     "execution_count": 4,
     "metadata": {},
     "output_type": "execute_result"
    }
   ],
   "source": [
    "\n",
    "df.isna().sum()"
   ]
  },
  {
   "cell_type": "code",
   "execution_count": 5,
   "metadata": {},
   "outputs": [
    {
     "data": {
      "text/html": [
       "<div>\n",
       "<style scoped>\n",
       "    .dataframe tbody tr th:only-of-type {\n",
       "        vertical-align: middle;\n",
       "    }\n",
       "\n",
       "    .dataframe tbody tr th {\n",
       "        vertical-align: top;\n",
       "    }\n",
       "\n",
       "    .dataframe thead th {\n",
       "        text-align: right;\n",
       "    }\n",
       "</style>\n",
       "<table border=\"1\" class=\"dataframe\">\n",
       "  <thead>\n",
       "    <tr style=\"text-align: right;\">\n",
       "      <th></th>\n",
       "      <th>Gender</th>\n",
       "      <th>EthnicGroup</th>\n",
       "      <th>ParentEduc</th>\n",
       "      <th>LunchType</th>\n",
       "      <th>TestPrep</th>\n",
       "      <th>ParentMaritalStatus</th>\n",
       "      <th>PracticeSport</th>\n",
       "      <th>IsFirstChild</th>\n",
       "      <th>NrSiblings</th>\n",
       "      <th>TransportMeans</th>\n",
       "      <th>WklyStudyHours</th>\n",
       "      <th>MathScore</th>\n",
       "    </tr>\n",
       "  </thead>\n",
       "  <tbody>\n",
       "    <tr>\n",
       "      <th>0</th>\n",
       "      <td>female</td>\n",
       "      <td>NaN</td>\n",
       "      <td>bachelor's degree</td>\n",
       "      <td>standard</td>\n",
       "      <td>none</td>\n",
       "      <td>married</td>\n",
       "      <td>regularly</td>\n",
       "      <td>yes</td>\n",
       "      <td>3.0</td>\n",
       "      <td>school_bus</td>\n",
       "      <td>&lt; 5</td>\n",
       "      <td>71</td>\n",
       "    </tr>\n",
       "    <tr>\n",
       "      <th>1</th>\n",
       "      <td>female</td>\n",
       "      <td>group C</td>\n",
       "      <td>some college</td>\n",
       "      <td>standard</td>\n",
       "      <td>NaN</td>\n",
       "      <td>married</td>\n",
       "      <td>sometimes</td>\n",
       "      <td>yes</td>\n",
       "      <td>0.0</td>\n",
       "      <td>NaN</td>\n",
       "      <td>5 - 10</td>\n",
       "      <td>69</td>\n",
       "    </tr>\n",
       "    <tr>\n",
       "      <th>2</th>\n",
       "      <td>female</td>\n",
       "      <td>group B</td>\n",
       "      <td>master's degree</td>\n",
       "      <td>standard</td>\n",
       "      <td>none</td>\n",
       "      <td>single</td>\n",
       "      <td>sometimes</td>\n",
       "      <td>yes</td>\n",
       "      <td>4.0</td>\n",
       "      <td>school_bus</td>\n",
       "      <td>&lt; 5</td>\n",
       "      <td>87</td>\n",
       "    </tr>\n",
       "    <tr>\n",
       "      <th>3</th>\n",
       "      <td>male</td>\n",
       "      <td>group A</td>\n",
       "      <td>associate's degree</td>\n",
       "      <td>free/reduced</td>\n",
       "      <td>none</td>\n",
       "      <td>married</td>\n",
       "      <td>never</td>\n",
       "      <td>no</td>\n",
       "      <td>1.0</td>\n",
       "      <td>NaN</td>\n",
       "      <td>5 - 10</td>\n",
       "      <td>45</td>\n",
       "    </tr>\n",
       "    <tr>\n",
       "      <th>4</th>\n",
       "      <td>male</td>\n",
       "      <td>group C</td>\n",
       "      <td>some college</td>\n",
       "      <td>standard</td>\n",
       "      <td>none</td>\n",
       "      <td>married</td>\n",
       "      <td>sometimes</td>\n",
       "      <td>yes</td>\n",
       "      <td>0.0</td>\n",
       "      <td>school_bus</td>\n",
       "      <td>5 - 10</td>\n",
       "      <td>76</td>\n",
       "    </tr>\n",
       "  </tbody>\n",
       "</table>\n",
       "</div>"
      ],
      "text/plain": [
       "   Gender EthnicGroup          ParentEduc     LunchType TestPrep  \\\n",
       "0  female         NaN   bachelor's degree      standard     none   \n",
       "1  female     group C        some college      standard      NaN   \n",
       "2  female     group B     master's degree      standard     none   \n",
       "3    male     group A  associate's degree  free/reduced     none   \n",
       "4    male     group C        some college      standard     none   \n",
       "\n",
       "  ParentMaritalStatus PracticeSport IsFirstChild  NrSiblings TransportMeans  \\\n",
       "0             married     regularly          yes         3.0     school_bus   \n",
       "1             married     sometimes          yes         0.0            NaN   \n",
       "2              single     sometimes          yes         4.0     school_bus   \n",
       "3             married         never           no         1.0            NaN   \n",
       "4             married     sometimes          yes         0.0     school_bus   \n",
       "\n",
       "  WklyStudyHours  MathScore  \n",
       "0            < 5         71  \n",
       "1         5 - 10         69  \n",
       "2            < 5         87  \n",
       "3         5 - 10         45  \n",
       "4         5 - 10         76  "
      ]
     },
     "execution_count": 5,
     "metadata": {},
     "output_type": "execute_result"
    }
   ],
   "source": [
    "df.head()"
   ]
  },
  {
   "cell_type": "code",
   "execution_count": 6,
   "metadata": {},
   "outputs": [
    {
     "data": {
      "text/plain": [
       "(30641, 12)"
      ]
     },
     "execution_count": 6,
     "metadata": {},
     "output_type": "execute_result"
    }
   ],
   "source": [
    "df.shape"
   ]
  },
  {
   "cell_type": "code",
   "execution_count": 7,
   "metadata": {},
   "outputs": [
    {
     "data": {
      "text/plain": [
       "Gender                  object\n",
       "EthnicGroup             object\n",
       "ParentEduc              object\n",
       "LunchType               object\n",
       "TestPrep                object\n",
       "ParentMaritalStatus     object\n",
       "PracticeSport           object\n",
       "IsFirstChild            object\n",
       "NrSiblings             float64\n",
       "TransportMeans          object\n",
       "WklyStudyHours          object\n",
       "MathScore                int64\n",
       "dtype: object"
      ]
     },
     "execution_count": 7,
     "metadata": {},
     "output_type": "execute_result"
    }
   ],
   "source": [
    "df.dtypes"
   ]
  },
  {
   "cell_type": "code",
   "execution_count": 8,
   "metadata": {},
   "outputs": [
    {
     "data": {
      "text/html": [
       "<div>\n",
       "<style scoped>\n",
       "    .dataframe tbody tr th:only-of-type {\n",
       "        vertical-align: middle;\n",
       "    }\n",
       "\n",
       "    .dataframe tbody tr th {\n",
       "        vertical-align: top;\n",
       "    }\n",
       "\n",
       "    .dataframe thead th {\n",
       "        text-align: right;\n",
       "    }\n",
       "</style>\n",
       "<table border=\"1\" class=\"dataframe\">\n",
       "  <thead>\n",
       "    <tr style=\"text-align: right;\">\n",
       "      <th></th>\n",
       "      <th>Gender</th>\n",
       "      <th>EthnicGroup</th>\n",
       "      <th>ParentEduc</th>\n",
       "      <th>LunchType</th>\n",
       "      <th>TestPrep</th>\n",
       "      <th>ParentMaritalStatus</th>\n",
       "      <th>PracticeSport</th>\n",
       "      <th>IsFirstChild</th>\n",
       "      <th>NrSiblings</th>\n",
       "      <th>TransportMeans</th>\n",
       "      <th>WklyStudyHours</th>\n",
       "      <th>MathScore</th>\n",
       "    </tr>\n",
       "  </thead>\n",
       "  <tbody>\n",
       "    <tr>\n",
       "      <th>count</th>\n",
       "      <td>30641</td>\n",
       "      <td>28801</td>\n",
       "      <td>28796</td>\n",
       "      <td>30641</td>\n",
       "      <td>28811</td>\n",
       "      <td>29451</td>\n",
       "      <td>30010</td>\n",
       "      <td>29737</td>\n",
       "      <td>29069.000000</td>\n",
       "      <td>27507</td>\n",
       "      <td>29686</td>\n",
       "      <td>30641.000000</td>\n",
       "    </tr>\n",
       "    <tr>\n",
       "      <th>unique</th>\n",
       "      <td>2</td>\n",
       "      <td>5</td>\n",
       "      <td>6</td>\n",
       "      <td>2</td>\n",
       "      <td>2</td>\n",
       "      <td>4</td>\n",
       "      <td>3</td>\n",
       "      <td>2</td>\n",
       "      <td>NaN</td>\n",
       "      <td>2</td>\n",
       "      <td>3</td>\n",
       "      <td>NaN</td>\n",
       "    </tr>\n",
       "    <tr>\n",
       "      <th>top</th>\n",
       "      <td>female</td>\n",
       "      <td>group C</td>\n",
       "      <td>some college</td>\n",
       "      <td>standard</td>\n",
       "      <td>none</td>\n",
       "      <td>married</td>\n",
       "      <td>sometimes</td>\n",
       "      <td>yes</td>\n",
       "      <td>NaN</td>\n",
       "      <td>school_bus</td>\n",
       "      <td>5 - 10</td>\n",
       "      <td>NaN</td>\n",
       "    </tr>\n",
       "    <tr>\n",
       "      <th>freq</th>\n",
       "      <td>15424</td>\n",
       "      <td>9212</td>\n",
       "      <td>6633</td>\n",
       "      <td>19905</td>\n",
       "      <td>18856</td>\n",
       "      <td>16844</td>\n",
       "      <td>15213</td>\n",
       "      <td>19082</td>\n",
       "      <td>NaN</td>\n",
       "      <td>16145</td>\n",
       "      <td>16246</td>\n",
       "      <td>NaN</td>\n",
       "    </tr>\n",
       "    <tr>\n",
       "      <th>mean</th>\n",
       "      <td>NaN</td>\n",
       "      <td>NaN</td>\n",
       "      <td>NaN</td>\n",
       "      <td>NaN</td>\n",
       "      <td>NaN</td>\n",
       "      <td>NaN</td>\n",
       "      <td>NaN</td>\n",
       "      <td>NaN</td>\n",
       "      <td>2.145894</td>\n",
       "      <td>NaN</td>\n",
       "      <td>NaN</td>\n",
       "      <td>66.558402</td>\n",
       "    </tr>\n",
       "    <tr>\n",
       "      <th>std</th>\n",
       "      <td>NaN</td>\n",
       "      <td>NaN</td>\n",
       "      <td>NaN</td>\n",
       "      <td>NaN</td>\n",
       "      <td>NaN</td>\n",
       "      <td>NaN</td>\n",
       "      <td>NaN</td>\n",
       "      <td>NaN</td>\n",
       "      <td>1.458242</td>\n",
       "      <td>NaN</td>\n",
       "      <td>NaN</td>\n",
       "      <td>15.361616</td>\n",
       "    </tr>\n",
       "    <tr>\n",
       "      <th>min</th>\n",
       "      <td>NaN</td>\n",
       "      <td>NaN</td>\n",
       "      <td>NaN</td>\n",
       "      <td>NaN</td>\n",
       "      <td>NaN</td>\n",
       "      <td>NaN</td>\n",
       "      <td>NaN</td>\n",
       "      <td>NaN</td>\n",
       "      <td>0.000000</td>\n",
       "      <td>NaN</td>\n",
       "      <td>NaN</td>\n",
       "      <td>0.000000</td>\n",
       "    </tr>\n",
       "    <tr>\n",
       "      <th>25%</th>\n",
       "      <td>NaN</td>\n",
       "      <td>NaN</td>\n",
       "      <td>NaN</td>\n",
       "      <td>NaN</td>\n",
       "      <td>NaN</td>\n",
       "      <td>NaN</td>\n",
       "      <td>NaN</td>\n",
       "      <td>NaN</td>\n",
       "      <td>1.000000</td>\n",
       "      <td>NaN</td>\n",
       "      <td>NaN</td>\n",
       "      <td>56.000000</td>\n",
       "    </tr>\n",
       "    <tr>\n",
       "      <th>50%</th>\n",
       "      <td>NaN</td>\n",
       "      <td>NaN</td>\n",
       "      <td>NaN</td>\n",
       "      <td>NaN</td>\n",
       "      <td>NaN</td>\n",
       "      <td>NaN</td>\n",
       "      <td>NaN</td>\n",
       "      <td>NaN</td>\n",
       "      <td>2.000000</td>\n",
       "      <td>NaN</td>\n",
       "      <td>NaN</td>\n",
       "      <td>67.000000</td>\n",
       "    </tr>\n",
       "    <tr>\n",
       "      <th>75%</th>\n",
       "      <td>NaN</td>\n",
       "      <td>NaN</td>\n",
       "      <td>NaN</td>\n",
       "      <td>NaN</td>\n",
       "      <td>NaN</td>\n",
       "      <td>NaN</td>\n",
       "      <td>NaN</td>\n",
       "      <td>NaN</td>\n",
       "      <td>3.000000</td>\n",
       "      <td>NaN</td>\n",
       "      <td>NaN</td>\n",
       "      <td>78.000000</td>\n",
       "    </tr>\n",
       "    <tr>\n",
       "      <th>max</th>\n",
       "      <td>NaN</td>\n",
       "      <td>NaN</td>\n",
       "      <td>NaN</td>\n",
       "      <td>NaN</td>\n",
       "      <td>NaN</td>\n",
       "      <td>NaN</td>\n",
       "      <td>NaN</td>\n",
       "      <td>NaN</td>\n",
       "      <td>7.000000</td>\n",
       "      <td>NaN</td>\n",
       "      <td>NaN</td>\n",
       "      <td>100.000000</td>\n",
       "    </tr>\n",
       "  </tbody>\n",
       "</table>\n",
       "</div>"
      ],
      "text/plain": [
       "        Gender EthnicGroup    ParentEduc LunchType TestPrep  \\\n",
       "count    30641       28801         28796     30641    28811   \n",
       "unique       2           5             6         2        2   \n",
       "top     female     group C  some college  standard     none   \n",
       "freq     15424        9212          6633     19905    18856   \n",
       "mean       NaN         NaN           NaN       NaN      NaN   \n",
       "std        NaN         NaN           NaN       NaN      NaN   \n",
       "min        NaN         NaN           NaN       NaN      NaN   \n",
       "25%        NaN         NaN           NaN       NaN      NaN   \n",
       "50%        NaN         NaN           NaN       NaN      NaN   \n",
       "75%        NaN         NaN           NaN       NaN      NaN   \n",
       "max        NaN         NaN           NaN       NaN      NaN   \n",
       "\n",
       "       ParentMaritalStatus PracticeSport IsFirstChild    NrSiblings  \\\n",
       "count                29451         30010        29737  29069.000000   \n",
       "unique                   4             3            2           NaN   \n",
       "top                married     sometimes          yes           NaN   \n",
       "freq                 16844         15213        19082           NaN   \n",
       "mean                   NaN           NaN          NaN      2.145894   \n",
       "std                    NaN           NaN          NaN      1.458242   \n",
       "min                    NaN           NaN          NaN      0.000000   \n",
       "25%                    NaN           NaN          NaN      1.000000   \n",
       "50%                    NaN           NaN          NaN      2.000000   \n",
       "75%                    NaN           NaN          NaN      3.000000   \n",
       "max                    NaN           NaN          NaN      7.000000   \n",
       "\n",
       "       TransportMeans WklyStudyHours     MathScore  \n",
       "count           27507          29686  30641.000000  \n",
       "unique              2              3           NaN  \n",
       "top        school_bus         5 - 10           NaN  \n",
       "freq            16145          16246           NaN  \n",
       "mean              NaN            NaN     66.558402  \n",
       "std               NaN            NaN     15.361616  \n",
       "min               NaN            NaN      0.000000  \n",
       "25%               NaN            NaN     56.000000  \n",
       "50%               NaN            NaN     67.000000  \n",
       "75%               NaN            NaN     78.000000  \n",
       "max               NaN            NaN    100.000000  "
      ]
     },
     "execution_count": 8,
     "metadata": {},
     "output_type": "execute_result"
    }
   ],
   "source": [
    "df.describe(include='all')"
   ]
  },
  {
   "cell_type": "markdown",
   "metadata": {},
   "source": [
    "<span style=\"color: #AC1555; font-weight: bold; font-size: 18px;\">Format review</span> "
   ]
  },
  {
   "cell_type": "code",
   "execution_count": 9,
   "metadata": {},
   "outputs": [],
   "source": [
    "df.columns = df.columns.str.lower().str.replace(' ', '_')"
   ]
  },
  {
   "cell_type": "markdown",
   "metadata": {},
   "source": [
    "<span style=\"color: #AC1555; font-weight: bold; font-size: 18px;\">Get unique values in each column</span> \n"
   ]
  },
  {
   "cell_type": "code",
   "execution_count": 10,
   "metadata": {},
   "outputs": [
    {
     "name": "stdout",
     "output_type": "stream",
     "text": [
      "Unique values in the column:\n",
      "'gender': ['female', 'male']\n",
      "'ethnicgroup': ['group C', 'group D', 'group B', 'group E', 'group A']\n",
      "'parenteduc': ['some college', 'high school', \"associate's degree\", 'some high school', \"bachelor's degree\", \"master's degree\"]\n",
      "'lunchtype': ['standard', 'free/reduced']\n",
      "'testprep': ['none', 'completed']\n",
      "'parentmaritalstatus': ['married', 'single', 'divorced', 'widowed']\n",
      "'practicesport': ['sometimes', 'regularly', 'never']\n",
      "'isfirstchild': ['yes', 'no']\n",
      "'nrsiblings': [1.0, 2.0, 3.0, 0.0, 4.0, 5.0, 6.0, 7.0]\n",
      "'transportmeans': ['school_bus', 'private']\n",
      "'wklystudyhours': ['5 - 10', '< 5', '> 10']\n",
      "'mathscore': [64, 67, 71, 70, 63, 62, 65, 66, 72, 69, 75, 73, 60, 61, 74, 76, 58, 59, 57, 77, 78, 56, 79, 80, 68, 55, 53, 54, 82, 83, 81, 51, 52, 84, 50, 85, 49, 86, 48, 47, 45, 88, 46, 87, 89, 44, 100, 90, 91, 43, 42, 93, 92, 41, 94, 95, 39, 40, 97, 96, 38, 36, 37, 99, 35, 98, 32, 33, 31, 34, 29, 30, 28, 26, 27, 25, 24, 23, 22, 21, 18, 19, 17, 20, 16, 13, 9, 10, 11, 15, 12, 14, 0, 8, 7]\n"
     ]
    }
   ],
   "source": [
    "print('Unique values in the column:')\n",
    "for column in df.columns:\n",
    "    unique_values = df[column].value_counts().index.tolist()\n",
    "    print(f\"'{column}': {unique_values}\")"
   ]
  },
  {
   "cell_type": "markdown",
   "metadata": {},
   "source": [
    "<span style=\"color: #AC1555; font-weight: bold; font-size: 18px;\">Separate df in numeric and categorical columns</span> "
   ]
  },
  {
   "cell_type": "code",
   "execution_count": 11,
   "metadata": {},
   "outputs": [
    {
     "name": "stdout",
     "output_type": "stream",
     "text": [
      "Numeric columns:\n",
      "     nrsiblings  mathscore\n",
      "0           3.0         71\n",
      "1           0.0         69\n",
      "2           4.0         87\n",
      "3           1.0         45\n",
      "4           0.0         76\n",
      "..          ...        ...\n",
      "816         2.0         59\n",
      "890         1.0         58\n",
      "911         1.0         61\n",
      "934         3.0         82\n",
      "960         1.0         64\n",
      "\n",
      "[30641 rows x 2 columns]\n"
     ]
    }
   ],
   "source": [
    "numeric_columns = df.select_dtypes(include=['int', 'float'])\n",
    "print(\"Numeric columns:\")\n",
    "print(numeric_columns)"
   ]
  },
  {
   "cell_type": "code",
   "execution_count": 12,
   "metadata": {},
   "outputs": [
    {
     "name": "stdout",
     "output_type": "stream",
     "text": [
      "Categorical columns:\n",
      "     gender ethnicgroup          parenteduc     lunchtype   testprep  \\\n",
      "0    female         NaN   bachelor's degree      standard       none   \n",
      "1    female     group C        some college      standard        NaN   \n",
      "2    female     group B     master's degree      standard       none   \n",
      "3      male     group A  associate's degree  free/reduced       none   \n",
      "4      male     group C        some college      standard       none   \n",
      "..      ...         ...                 ...           ...        ...   \n",
      "816  female     group D         high school      standard       none   \n",
      "890    male     group E         high school      standard       none   \n",
      "911  female         NaN         high school  free/reduced  completed   \n",
      "934  female     group D  associate's degree      standard  completed   \n",
      "960    male     group B        some college      standard       none   \n",
      "\n",
      "    parentmaritalstatus practicesport isfirstchild transportmeans  \\\n",
      "0               married     regularly          yes     school_bus   \n",
      "1               married     sometimes          yes            NaN   \n",
      "2                single     sometimes          yes     school_bus   \n",
      "3               married         never           no            NaN   \n",
      "4               married     sometimes          yes     school_bus   \n",
      "..                  ...           ...          ...            ...   \n",
      "816              single     sometimes           no     school_bus   \n",
      "890              single     regularly           no        private   \n",
      "911             married     sometimes           no        private   \n",
      "934             married     regularly           no     school_bus   \n",
      "960             married         never           no     school_bus   \n",
      "\n",
      "    wklystudyhours  \n",
      "0              < 5  \n",
      "1           5 - 10  \n",
      "2              < 5  \n",
      "3           5 - 10  \n",
      "4           5 - 10  \n",
      "..             ...  \n",
      "816         5 - 10  \n",
      "890         5 - 10  \n",
      "911         5 - 10  \n",
      "934         5 - 10  \n",
      "960         5 - 10  \n",
      "\n",
      "[30641 rows x 10 columns]\n"
     ]
    }
   ],
   "source": [
    "categorical_columns = df.select_dtypes(include=['object'])\n",
    "print(\"Categorical columns:\")\n",
    "print(categorical_columns)"
   ]
  },
  {
   "cell_type": "markdown",
   "metadata": {},
   "source": []
  },
  {
   "cell_type": "code",
   "execution_count": 13,
   "metadata": {},
   "outputs": [
    {
     "name": "stdout",
     "output_type": "stream",
     "text": [
      "Percentage of unique values in gender:\n",
      "female    50.337783\n",
      "male      49.662217\n",
      "Name: gender, dtype: float64\n",
      "\n",
      "Percentage of unique values in ethnicgroup:\n",
      "group C    31.985001\n",
      "group D    26.051179\n",
      "group B    20.228464\n",
      "group E    14.030763\n",
      "group A     7.704594\n",
      "Name: ethnicgroup, dtype: float64\n",
      "\n",
      "Percentage of unique values in parenteduc:\n",
      "some college          23.034449\n",
      "high school           19.749271\n",
      "associate's degree    19.273510\n",
      "some high school      19.158911\n",
      "bachelor's degree     11.758578\n",
      "master's degree        7.025281\n",
      "Name: parenteduc, dtype: float64\n",
      "\n",
      "Percentage of unique values in lunchtype:\n",
      "standard        64.961979\n",
      "free/reduced    35.038021\n",
      "Name: lunchtype, dtype: float64\n",
      "\n",
      "Percentage of unique values in testprep:\n",
      "none         65.447225\n",
      "completed    34.552775\n",
      "Name: testprep, dtype: float64\n",
      "\n",
      "Percentage of unique values in parentmaritalstatus:\n",
      "married     57.193304\n",
      "single      24.097654\n",
      "divorced    16.702319\n",
      "widowed      2.006723\n",
      "Name: parentmaritalstatus, dtype: float64\n",
      "\n",
      "Percentage of unique values in practicesport:\n",
      "sometimes    50.693102\n",
      "regularly    35.964678\n",
      "never        13.342219\n",
      "Name: practicesport, dtype: float64\n",
      "\n",
      "Percentage of unique values in isfirstchild:\n",
      "yes    64.169217\n",
      "no     35.830783\n",
      "Name: isfirstchild, dtype: float64\n",
      "\n",
      "Percentage of unique values in transportmeans:\n",
      "school_bus    58.694151\n",
      "private       41.305849\n",
      "Name: transportmeans, dtype: float64\n",
      "\n",
      "Percentage of unique values in wklystudyhours:\n",
      "5 - 10    54.726134\n",
      "< 5       27.750455\n",
      "> 10      17.523412\n",
      "Name: wklystudyhours, dtype: float64\n",
      "\n"
     ]
    }
   ],
   "source": [
    "for column in categorical_columns:\n",
    "    percentage_values = df[column].value_counts(normalize=True) * 100\n",
    "    print(f'Percentage of unique values in {column}:\\n{percentage_values}\\n')"
   ]
  },
  {
   "cell_type": "markdown",
   "metadata": {},
   "source": [
    "<span style=\"color: #AC1555; font-weight: bold; font-size: 18px;\">Report</span>"
   ]
  },
  {
   "cell_type": "code",
   "execution_count": 15,
   "metadata": {},
   "outputs": [
    {
     "name": "stderr",
     "output_type": "stream",
     "text": [
      "Done! Use 'show' commands to display/save.   |██████████| [100%]   00:00 -> (00:00 left)"
     ]
    },
    {
     "name": "stdout",
     "output_type": "stream",
     "text": [
      "Report ../reports/report.html was generated.\n"
     ]
    },
    {
     "name": "stderr",
     "output_type": "stream",
     "text": [
      "\n"
     ]
    }
   ],
   "source": [
    "report = sv.analyze(df, target_feat='mathscore')\n",
    "report.show_html('../reports/report.html', open_browser=False)"
   ]
  }
 ],
 "metadata": {
  "kernelspec": {
   "display_name": ".venv",
   "language": "python",
   "name": "python3"
  },
  "language_info": {
   "codemirror_mode": {
    "name": "ipython",
    "version": 3
   },
   "file_extension": ".py",
   "mimetype": "text/x-python",
   "name": "python",
   "nbconvert_exporter": "python",
   "pygments_lexer": "ipython3",
   "version": "3.11.6"
  }
 },
 "nbformat": 4,
 "nbformat_minor": 2
}
